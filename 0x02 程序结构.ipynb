{
 "cells": [
  {
   "cell_type": "markdown",
   "metadata": {},
   "source": [
    "函数与绑定\n",
    "===========\n"
   ]
  },
  {
   "cell_type": "code",
   "execution_count": 1,
   "metadata": {},
   "outputs": [
    {
     "data": {
      "text/plain": [
       "3"
      ]
     },
     "execution_count": 1,
     "metadata": {},
     "output_type": "execute_result"
    }
   ],
   "source": [
    "; 创建匿名函数并调用\n",
    "((fn [a b] (+ a b)) 1 2)"
   ]
  },
  {
   "cell_type": "code",
   "execution_count": 6,
   "metadata": {},
   "outputs": [
    {
     "data": {
      "text/plain": [
       "#'user/more-arg"
      ]
     },
     "execution_count": 6,
     "metadata": {},
     "output_type": "execute_result"
    }
   ],
   "source": [
    "; 可变参数\n",
    "(defn more-arg [x y & more] (+ x y))\n"
   ]
  },
  {
   "cell_type": "code",
   "execution_count": 2,
   "metadata": {},
   "outputs": [
    {
     "data": {
      "text/plain": [
       "[0 0]"
      ]
     },
     "execution_count": 2,
     "metadata": {},
     "output_type": "execute_result"
    }
   ],
   "source": [
    "; 绑定\n",
    "(def line [[0 0] [10 20]] )\n",
    "(first line)"
   ]
  },
  {
   "cell_type": "code",
   "execution_count": 3,
   "metadata": {},
   "outputs": [
    {
     "data": {
      "text/plain": [
       "#'user/mmax"
      ]
     },
     "execution_count": 3,
     "metadata": {},
     "output_type": "execute_result"
    }
   ],
   "source": [
    "; 定义函数\n",
    "(defn mmax [a b]\n",
    "  (if (> a b) a b))"
   ]
  },
  {
   "cell_type": "code",
   "execution_count": 4,
   "metadata": {},
   "outputs": [
    {
     "data": {
      "text/plain": [
       "#'user/a-function"
      ]
     },
     "execution_count": 4,
     "metadata": {},
     "output_type": "execute_result"
    }
   ],
   "source": [
    "; defn实际上是一个宏, 等于def+fn\n",
    "(def a-function \n",
    "  (fn [a b] (+ a b))\n",
    ")"
   ]
  },
  {
   "cell_type": "code",
   "execution_count": 9,
   "metadata": {},
   "outputs": [
    {
     "data": {
      "text/plain": [
       "3"
      ]
     },
     "execution_count": 9,
     "metadata": {},
     "output_type": "execute_result"
    }
   ],
   "source": [
    "; let形式, 绑定局部变量\n",
    "(let [ x 1, y  2, z (+ x y)] z)"
   ]
  },
  {
   "cell_type": "code",
   "execution_count": 12,
   "metadata": {},
   "outputs": [
    {
     "data": {
      "text/plain": [
       ":cc"
      ]
     },
     "execution_count": 12,
     "metadata": {},
     "output_type": "execute_result"
    }
   ],
   "source": [
    "; 变量解构\n",
    "(def board [ [:x :o :x] [:o :cc :x] [:o :o :x]  ])\n",
    "(defn center  [[_ [_ c _] _]] c)\n",
    "\n",
    "; 其实只是使用了函数的形式参数的能力而已\n",
    "(center board) "
   ]
  },
  {
   "cell_type": "markdown",
   "metadata": {},
   "source": [
    "流程控制\n",
    "============="
   ]
  },
  {
   "cell_type": "code",
   "execution_count": 13,
   "metadata": {},
   "outputs": [
    {
     "data": {
      "text/plain": [
       "#'user/x"
      ]
     },
     "execution_count": 13,
     "metadata": {},
     "output_type": "execute_result"
    }
   ],
   "source": [
    "(def x 42)"
   ]
  },
  {
   "cell_type": "code",
   "execution_count": 14,
   "metadata": {},
   "outputs": [
    {
     "name": "stdout",
     "output_type": "stream",
     "text": [
      "X > 2\n"
     ]
    },
    {
     "data": {
      "text/plain": [
       "nil"
      ]
     },
     "execution_count": 14,
     "metadata": {},
     "output_type": "execute_result"
    }
   ],
   "source": [
    "(if (> x 2) \n",
    "    (println \"X > 2\")\n",
    "    (println \"X < 2\"))"
   ]
  },
  {
   "cell_type": "code",
   "execution_count": 18,
   "metadata": {},
   "outputs": [
    {
     "name": "stdout",
     "output_type": "stream",
     "text": [
      "X > 2\n"
     ]
    },
    {
     "data": {
      "text/plain": [
       "nil"
      ]
     },
     "execution_count": 18,
     "metadata": {},
     "output_type": "execute_result"
    }
   ],
   "source": [
    "(if-not (< x 2) \n",
    "    (println \"X > 2\")\n",
    "    (println \"X < 2\"))"
   ]
  },
  {
   "cell_type": "code",
   "execution_count": 15,
   "metadata": {},
   "outputs": [
    {
     "data": {
      "text/plain": [
       "\"greater\""
      ]
     },
     "execution_count": 15,
     "metadata": {},
     "output_type": "execute_result"
    }
   ],
   "source": [
    "(cond \n",
    "  (> x 0) \"greater\"\n",
    "  (= x 0) \"equal\"\n",
    "  :default \"lesser\"\n",
    ")"
   ]
  },
  {
   "cell_type": "code",
   "execution_count": 16,
   "metadata": {},
   "outputs": [
    {
     "name": "stdout",
     "output_type": "stream",
     "text": [
      "A\n",
      "B\n"
     ]
    },
    {
     "data": {
      "text/plain": [
       "nil"
      ]
     },
     "execution_count": 16,
     "metadata": {},
     "output_type": "execute_result"
    }
   ],
   "source": [
    "; do依次执行多个函数\n",
    "(do (println \"A\") (println \"B\"))"
   ]
  },
  {
   "cell_type": "code",
   "execution_count": 17,
   "metadata": {},
   "outputs": [
    {
     "name": "stdout",
     "output_type": "stream",
     "text": [
      "A\n",
      "B\n"
     ]
    },
    {
     "data": {
      "text/plain": [
       "\"done\""
      ]
     },
     "execution_count": 17,
     "metadata": {},
     "output_type": "execute_result"
    }
   ],
   "source": [
    "; when 等于if + do, 条件满足时执行多个语句\n",
    "; when也有相反的 when-not 形式\n",
    "(when (> x 5)\n",
    "  (println \"A\")\n",
    "  (println \"B\")\n",
    "  \"done\"\n",
    ")"
   ]
  },
  {
   "cell_type": "markdown",
   "metadata": {},
   "source": [
    "逻辑运算\n",
    "==========\n",
    "\n",
    "逻辑函数, 支持 and, or, not. Clojure中仅false与nil视为逻辑假, 其余值均视为逻辑真.\n",
    "\n",
    "逻辑函数具有短路特性并返回最有一个处理的值, 例如对于and, 要么返回最有一个值, 要么中途遇到nil或者false, 从而返回nil或false."
   ]
  },
  {
   "cell_type": "code",
   "execution_count": 19,
   "metadata": {},
   "outputs": [
    {
     "data": {
      "text/plain": [
       ":c"
      ]
     },
     "execution_count": 19,
     "metadata": {},
     "output_type": "execute_result"
    }
   ],
   "source": [
    "(and :a :b :c) ; => :c"
   ]
  },
  {
   "cell_type": "code",
   "execution_count": 20,
   "metadata": {},
   "outputs": [
    {
     "data": {
      "text/plain": [
       "nil"
      ]
     },
     "execution_count": 20,
     "metadata": {},
     "output_type": "execute_result"
    }
   ],
   "source": [
    "(and :a nil :c); => nil"
   ]
  },
  {
   "cell_type": "markdown",
   "metadata": {},
   "source": [
    "递归循环\n",
    "=============\n",
    "\n",
    "使用loop与recur实现经典的函数式递归循环. loop的第一个参数是绑定列表, 提供偶数个参数, 将符号与值绑定.\n",
    "\n",
    "因此在`fact-loop`方法中, 首先将current绑定到n, fact绑定到1. 后续在recur中再次进行绑定后递归的进行计算.\n",
    "\n",
    "由于Clojure不能自动优化尾递归, 因此只能采取这种方式实现尾递归."
   ]
  },
  {
   "cell_type": "code",
   "execution_count": 22,
   "metadata": {},
   "outputs": [
    {
     "data": {
      "text/plain": [
       "#'user/fact-loop"
      ]
     },
     "execution_count": 22,
     "metadata": {},
     "output_type": "execute_result"
    }
   ],
   "source": [
    "\n",
    "(defn fact-loop [n]\n",
    "  (loop [current n, fact 1]\n",
    "    (if (= current 1)\n",
    "      fact\n",
    "      (recur (dec current) (* fact current) ) )))"
   ]
  },
  {
   "cell_type": "code",
   "execution_count": 24,
   "metadata": {},
   "outputs": [
    {
     "data": {
      "text/plain": [
       "6"
      ]
     },
     "execution_count": 24,
     "metadata": {},
     "output_type": "execute_result"
    }
   ],
   "source": [
    "(fact-loop 3)"
   ]
  },
  {
   "cell_type": "markdown",
   "metadata": {},
   "source": [
    "由于递归方式实现循环时, 代码比较复杂, 因此Clojure中还有两个简化循环的操作"
   ]
  },
  {
   "cell_type": "code",
   "execution_count": 29,
   "metadata": {},
   "outputs": [
    {
     "name": "stdout",
     "output_type": "stream",
     "text": [
      "Hello,  alice\n",
      "Hello,  bob\n",
      "Hello,  ggboy\n"
     ]
    },
    {
     "data": {
      "text/plain": [
       "nil"
      ]
     },
     "execution_count": 29,
     "metadata": {},
     "output_type": "execute_result"
    }
   ],
   "source": [
    "; 简化循环操作, 遍历指定的列表\n",
    "(doseq [user [\"alice\" \"bob\" \"ggboy\"]]\n",
    "  (println \"Hello, \" user))"
   ]
  },
  {
   "cell_type": "code",
   "execution_count": 26,
   "metadata": {},
   "outputs": [
    {
     "name": "stdout",
     "output_type": "stream",
     "text": [
      "x is 0\n",
      "x is 1\n",
      "x is 2\n",
      "x is 3\n",
      "x is 4\n"
     ]
    },
    {
     "data": {
      "text/plain": [
       "nil"
      ]
     },
     "execution_count": 26,
     "metadata": {},
     "output_type": "execute_result"
    }
   ],
   "source": [
    "; 简化循环操作, 执行指定次数\n",
    "(dotimes [x 5]\n",
    "  (println \"x is\" x))"
   ]
  },
  {
   "cell_type": "markdown",
   "metadata": {},
   "source": [
    "串行宏\n",
    "=============\n",
    "\n",
    "对于复杂表达式, 需要多层嵌套, 因此书写不方便, 可使用串行宏. \n",
    "\n",
    "`->` 将上一个表达式放到下一个表达式的第一个参数的位置.\n",
    "\n",
    "`->>` 将上一个表达式放到下一个表达式最后一个参数的位置.\n",
    "\n",
    "此外还支持更复杂的任意位置串行`as->` 和条件串行`cond->`"
   ]
  },
  {
   "cell_type": "code",
   "execution_count": 31,
   "metadata": {},
   "outputs": [
    {
     "data": {
      "text/plain": [
       "#'user/final-amount"
      ]
     },
     "execution_count": 31,
     "metadata": {},
     "output_type": "execute_result"
    }
   ],
   "source": [
    "(defn final-amount-> [principle rate time]\n",
    "  (-> rate\n",
    "    (/ 100)\n",
    "    (+ 1)\n",
    "    (Math/pow time)\n",
    "    (* principle)))\n",
    "; 等价于\n",
    "\n",
    "(defn final-amount [principle rate time]\n",
    "    (* \n",
    "        (Math/pow \n",
    "            (+ \n",
    "                (/ rate 100) \n",
    "                1) \n",
    "            time) \n",
    "        principle))\n",
    "\n"
   ]
  },
  {
   "cell_type": "code",
   "execution_count": 32,
   "metadata": {},
   "outputs": [
    {
     "data": {
      "text/plain": [
       "true"
      ]
     },
     "execution_count": 32,
     "metadata": {},
     "output_type": "execute_result"
    }
   ],
   "source": [
    "(= (final-amount-> 100 0.24 2) (final-amount 100 0.24 2))"
   ]
  }
 ],
 "metadata": {
  "kernelspec": {
   "display_name": "Clojure (clojupyter-0.4.325)",
   "language": "clojure",
   "name": "clojupyter-0.4.325"
  },
  "language_info": {
   "file_extension": ".clj",
   "mimetype": "text/x-clojure",
   "name": "clojure",
   "version": "1.11.1"
  }
 },
 "nbformat": 4,
 "nbformat_minor": 2
}
