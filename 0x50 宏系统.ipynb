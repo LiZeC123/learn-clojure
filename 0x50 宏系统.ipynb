{
 "cells": [
  {
   "cell_type": "markdown",
   "metadata": {},
   "source": [
    "宏\n",
    "======\n",
    "\n",
    "Clojure中宏的概念与C语言中宏的概念是类似的, 即一种代码的模板, 根据输入的参数替换为对应的代码."
   ]
  },
  {
   "cell_type": "code",
   "execution_count": 1,
   "metadata": {},
   "outputs": [
    {
     "data": {
      "text/plain": [
       "#'user/unless"
      ]
     },
     "execution_count": 1,
     "metadata": {},
     "output_type": "execute_result"
    }
   ],
   "source": [
    "; 定义宏, 使用`开始一个模板, 使用~解引用, 即在模板的对应位置使用变量实际的值\n",
    "(defmacro unless [test then]\n",
    "    `(if (not ~test) \n",
    "        ~then))"
   ]
  },
  {
   "cell_type": "code",
   "execution_count": 3,
   "metadata": {},
   "outputs": [
    {
     "data": {
      "text/plain": [
       "(if (clojure.core/not (even? x)) (println x))"
      ]
     },
     "execution_count": 3,
     "metadata": {},
     "output_type": "execute_result"
    }
   ],
   "source": [
    "; 可查看一个宏的展开情况\n",
    "(macroexpand '(unless (even? x) (println x)))"
   ]
  },
  {
   "cell_type": "code",
   "execution_count": 4,
   "metadata": {},
   "outputs": [
    {
     "data": {
      "text/plain": [
       "#'user/unless"
      ]
     },
     "execution_count": 4,
     "metadata": {},
     "output_type": "execute_result"
    }
   ],
   "source": [
    "; 使用~@可以将一个列表作为参数展开到表达式中\n",
    "; 如下代码中, then是一个包含剩余参数的数组, 如果直接接引用, 会将第一个参数作为函数调用, 导致执行错误\n",
    "(defmacro unless [test & then]\n",
    "    `(if (not ~test) \n",
    "        (do ~@then)))"
   ]
  },
  {
   "cell_type": "code",
   "execution_count": 5,
   "metadata": {},
   "outputs": [
    {
     "data": {
      "text/plain": [
       "(if (clojure.core/not (even? x)) (do (println x) (println \"done\")))"
      ]
     },
     "execution_count": 5,
     "metadata": {},
     "output_type": "execute_result"
    }
   ],
   "source": [
    "(macroexpand  '(unless (even? x) (println x) (println \"done\")))"
   ]
  },
  {
   "cell_type": "code",
   "execution_count": 2,
   "metadata": {},
   "outputs": [
    {
     "data": {
      "text/plain": [
       "#'user/def-login-fn"
      ]
     },
     "execution_count": 2,
     "metadata": {},
     "output_type": "execute_result"
    }
   ],
   "source": [
    "; 宏展开时, 如果不对now进行特殊处理, 会导致解析失败, 加入#使Clojure为now生成一个随机名称, 从而避免冲突\n",
    "(defmacro def-login-fn [name arg & body]\n",
    "    `(defn ~name ~arg \n",
    "        (let [now# (System/currentTimeMillis)]\n",
    "            (println \"[\" now# \"]\" \"Call To\" (str (var ~name))) \n",
    "            ~@body)))"
   ]
  },
  {
   "cell_type": "code",
   "execution_count": 3,
   "metadata": {},
   "outputs": [
    {
     "data": {
      "text/plain": [
       "#'user/printname"
      ]
     },
     "execution_count": 3,
     "metadata": {},
     "output_type": "execute_result"
    }
   ],
   "source": [
    "; 注意这里参数使用数组传递, 在模板里面直接解引用, 从而巧妙的实现了与defn的表现一致\n",
    "; 正是这种同态性, 保证了Clojure的宏特别灵活\n",
    "(def-login-fn printname [name] \n",
    "    (println \"Hello, \" name))"
   ]
  },
  {
   "cell_type": "code",
   "execution_count": 4,
   "metadata": {},
   "outputs": [
    {
     "name": "stdout",
     "output_type": "stream",
     "text": [
      "[ 1717487486057 ] Call To #'user/printname\n",
      "Hello,  Li\n"
     ]
    },
    {
     "data": {
      "text/plain": [
       "nil"
      ]
     },
     "execution_count": 4,
     "metadata": {},
     "output_type": "execute_result"
    }
   ],
   "source": [
    "(printname \"Li\")"
   ]
  }
 ],
 "metadata": {
  "kernelspec": {
   "display_name": "Clojure (clojupyter-0.4.325)",
   "language": "clojure",
   "name": "clojupyter-0.4.325"
  },
  "language_info": {
   "file_extension": ".clj",
   "mimetype": "text/x-clojure",
   "name": "clojure",
   "version": "1.11.1"
  }
 },
 "nbformat": 4,
 "nbformat_minor": 2
}
